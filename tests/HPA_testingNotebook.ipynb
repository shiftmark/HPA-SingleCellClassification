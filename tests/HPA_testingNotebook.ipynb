{
 "cells": [
  {
   "cell_type": "code",
   "execution_count": null,
   "metadata": {
    "colab": {
     "base_uri": "https://localhost:8080/"
    },
    "id": "uA2kroxdDIhF",
    "outputId": "2660eb09-b4cd-43d7-aed4-102f61e6943e"
   },
   "outputs": [],
   "source": [
    "#!git clone https://github.com/shiftmark/HPA-SingleCellClassification.git\n",
    "#!git clone https://github.com/CellProfiling/HPA-Cell-Segmentation.git\n",
    "#!cd HPA-Cell-Segmentation && sh install.sh\n",
    "#!pip uninstall PIL && pip uninstall Pillow -y && pip install Pillow\n",
    "# restart for Pillow"
   ]
  },
  {
   "cell_type": "code",
   "execution_count": null,
   "metadata": {
    "colab": {
     "base_uri": "https://localhost:8080/"
    },
    "id": "AOxohn2_hQMy",
    "outputId": "2bbb16d4-e9e1-42a4-89b9-e5eb2e5cb230"
   },
   "outputs": [],
   "source": [
    "import sys\n",
    "import os\n",
    "import random\n",
    "import cv2\n",
    "import tensorflow as tf\n",
    "import matplotlib.pyplot as plt\n",
    "sys.path.insert(0, '../src/')\n",
    "sys.path.insert(0, '../tests/')\n",
    "\n",
    "\n",
    "import test_download_images_and_save_masks as dg\n",
    "#test.test_on(num_img=10)\n",
    "from utils.download_files import DownloadFile\n",
    "from utils.create_tfrecord import CreateTFRecord\n",
    "from utils.parse_example import ParseExample\n",
    "from train.helpers import plot_images, plot_history\n",
    "from train.augment import Augment\n",
    "from train.get_model import GetModel\n",
    "\n",
    "SAVE_IMG_TO = GET_IMG_FROM = './assets/images'\n",
    "SAVE_TFREC_TO = './assets/tfrec'\n",
    "SAVE_MASKS_TO = './assets/masks'\n"
   ]
  },
  {
   "cell_type": "code",
   "execution_count": null,
   "metadata": {
    "id": "gE4Hi0hPBb9d"
   },
   "outputs": [],
   "source": [
    "dg.download(8, SAVE_IMG_TO)"
   ]
  },
  {
   "cell_type": "code",
   "execution_count": null,
   "metadata": {
    "id": "NEbJy8PvFQCq"
   },
   "outputs": [],
   "source": [
    "img_names = sorted(os.listdir(f'{GET_IMG_FROM}/tc'))\n",
    "labels = dict()\n",
    "\n",
    "for img_name in img_names:\n",
    "    dummy_label = random.randint(0,18)\n",
    "    name = img_name.split('.')[0]\n",
    "    labels[name] = dummy_label\n"
   ]
  },
  {
   "cell_type": "code",
   "execution_count": null,
   "metadata": {
    "colab": {
     "base_uri": "https://localhost:8080/"
    },
    "id": "B_UWw23BsQNC",
    "outputId": "70ac4842-e48c-43d4-f314-b97eeee080a0"
   },
   "outputs": [],
   "source": [
    "img_names"
   ]
  },
  {
   "source": [
    "CreateTFRecord(f'{GET_IMG_FROM}/tc', labels).write_to(SAVE_TFREC_TO)"
   ],
   "cell_type": "code",
   "metadata": {
    "id": "NKrM78wGIg10"
   },
   "execution_count": null,
   "outputs": []
  },
  {
   "cell_type": "code",
   "execution_count": null,
   "metadata": {
    "id": "-vLLoRo3yc1L"
   },
   "outputs": [],
   "source": [
    "imgs = []#'/content/sample_data/hpa/images/921_B9_1_blue.png']\n",
    "\n",
    "dataset = tf.data.TFRecordDataset(f'{SAVE_TFREC_TO}/record.tfrec')\n",
    "\n",
    "for i in dataset.take(10):\n",
    "    #print(i.shape)\n",
    "    imgs.append(ParseExample(i, return_img_name=True).parse_eg()[1])\n",
    "    #imgs.append(tf.squeeze(ParseExample(i, return_img_name=False).parse_eg()[0]).numpy())\n",
    "data = tf.data.Dataset.from_tensor_slices(imgs)\n",
    "data2 = Augment(flip_horizontal=False,\n",
    "                seed=tf.random.uniform((2,),maxval=9, dtype=tf.int32),\n",
    "                contrast={'lower':.1, 'upper':.9},\n",
    "                brightness={'max_delta':.1},\n",
    "                saturation={'lower':.2, 'upper':.7}\n",
    "                ).apply_on(data)"
   ]
  },
  {
   "cell_type": "code",
   "execution_count": null,
   "metadata": {
    "colab": {
     "base_uri": "https://localhost:8080/",
     "height": 256
    },
    "id": "IiAdFZ1vIBFc",
    "outputId": "a166da04-7090-4293-d20e-480d2371e4aa"
   },
   "outputs": [],
   "source": [
    "imgss = []\n",
    "for i in data2.take(3):\n",
    "    imgss.append(i.numpy())\n",
    "plot_images(imgss, show_axes=False)"
   ]
  },
  {
   "cell_type": "code",
   "execution_count": null,
   "metadata": {
    "colab": {
     "base_uri": "https://localhost:8080/",
     "height": 256
    },
    "id": "STzD8YE_Kagp",
    "outputId": "8fc2c414-ce83-47f8-beb0-8ccac5ef9232"
   },
   "outputs": [],
   "source": [
    "imgsss = []\n",
    "for i in data.take(3):\n",
    "    imgsss.append(i.numpy())\n",
    "plot_images(imgsss, show_axes=False)"
   ]
  },
  {
   "cell_type": "code",
   "execution_count": null,
   "metadata": {
    "id": "y9s_h4QIhQWI"
   },
   "outputs": [],
   "source": [
    "model = GetModel().set_backbone(\"EfficientNetB0\", input_shape=(224,224,3), include_top=True)\n",
    "model = tf.keras.Model(inputs=model.inputs, outputs=model.outputs)\n",
    "#model.summary()\n",
    "\n",
    "\n",
    "model2 = GetModel().set_backbone(\"EfficientNetB7\", input_shape=(600,600,3), include_top=False).add_top(23,.4,33)\n",
    "\n",
    "#model = Unet((32, 800, 3), 7).unet()"
   ]
  },
  {
   "cell_type": "code",
   "execution_count": null,
   "metadata": {
    "id": "7pe8k39MojPY"
   },
   "outputs": [],
   "source": [
    "from tensorflow.keras.utils import plot_model"
   ]
  },
  {
   "cell_type": "code",
   "execution_count": null,
   "metadata": {
    "id": "EdXql5I0wDSR"
   },
   "outputs": [],
   "source": [
    "plot_model(model)"
   ]
  },
  {
   "cell_type": "code",
   "execution_count": 10,
   "metadata": {
    "id": "0jDoGXmftQua"
   },
   "outputs": [
    {
     "output_type": "stream",
     "name": "stdout",
     "text": [
      "The tensorboard extension is already loaded. To reload it, use:\n  %reload_ext tensorboard\n"
     ]
    }
   ],
   "source": [
    "%load_ext tensorboard"
   ]
  },
  {
   "cell_type": "code",
   "execution_count": 7,
   "metadata": {},
   "outputs": [
    {
     "output_type": "stream",
     "name": "stdout",
     "text": [
      "Downloading data from https://storage.googleapis.com/tensorflow/tf-keras-datasets/mnist.npz\n",
      "11493376/11490434 [==============================] - 6s 0us/step\n"
     ]
    }
   ],
   "source": [
    "import datetime\n",
    "mnist = tf.keras.datasets.mnist\n",
    "\n",
    "(x_train, y_train),(x_test, y_test) = mnist.load_data()\n",
    "x_train, x_test = x_train / 255.0, x_test / 255.0\n",
    "\n",
    "def create_model():\n",
    "  return tf.keras.models.Sequential([\n",
    "    tf.keras.layers.Flatten(input_shape=(28, 28)),\n",
    "    tf.keras.layers.Dense(512, activation='relu'),\n",
    "    tf.keras.layers.Dropout(0.2),\n",
    "    tf.keras.layers.Dense(10, activation='softmax')\n",
    "  ])\n"
   ]
  },
  {
   "cell_type": "code",
   "execution_count": 8,
   "metadata": {},
   "outputs": [
    {
     "output_type": "stream",
     "name": "stdout",
     "text": [
      "Epoch 1/5\n",
      "1875/1875 [==============================] - 42s 22ms/step - loss: 0.3582 - accuracy: 0.8928 - val_loss: 0.1064 - val_accuracy: 0.9670\n",
      "Epoch 2/5\n",
      "1875/1875 [==============================] - 43s 23ms/step - loss: 0.1020 - accuracy: 0.9686 - val_loss: 0.0913 - val_accuracy: 0.9703\n",
      "Epoch 3/5\n",
      "1875/1875 [==============================] - 44s 23ms/step - loss: 0.0681 - accuracy: 0.9795 - val_loss: 0.0814 - val_accuracy: 0.9740\n",
      "Epoch 4/5\n",
      "1875/1875 [==============================] - 42s 22ms/step - loss: 0.0510 - accuracy: 0.9836 - val_loss: 0.0721 - val_accuracy: 0.9770\n",
      "Epoch 5/5\n",
      "1875/1875 [==============================] - 41s 22ms/step - loss: 0.0407 - accuracy: 0.9866 - val_loss: 0.0624 - val_accuracy: 0.9812\n"
     ]
    },
    {
     "output_type": "execute_result",
     "data": {
      "text/plain": [
       "<tensorflow.python.keras.callbacks.History at 0x7f77e5807430>"
      ]
     },
     "metadata": {},
     "execution_count": 8
    }
   ],
   "source": [
    "model = create_model()\n",
    "model.compile(optimizer='adam',\n",
    "              loss='sparse_categorical_crossentropy',\n",
    "              metrics=['accuracy'])\n",
    "\n",
    "log_dir = \"logs/fit/\" + datetime.datetime.now().strftime(\"%Y%m%d-%H%M%S\")\n",
    "tensorboard_callback = tf.keras.callbacks.TensorBoard(log_dir=log_dir, histogram_freq=1)\n",
    "\n",
    "model.fit(x=x_train, \n",
    "          y=y_train, \n",
    "          epochs=5, \n",
    "          validation_data=(x_test, y_test), \n",
    "          callbacks=[tensorboard_callback])\n"
   ]
  },
  {
   "cell_type": "code",
   "execution_count": 9,
   "metadata": {},
   "outputs": [
    {
     "output_type": "display_data",
     "data": {
      "text/plain": "<IPython.core.display.HTML object>",
      "text/html": "\n      <iframe id=\"tensorboard-frame-6e3e01f1f3faaf99\" width=\"100%\" height=\"800\" frameborder=\"0\">\n      </iframe>\n      <script>\n        (function() {\n          const frame = document.getElementById(\"tensorboard-frame-6e3e01f1f3faaf99\");\n          const url = new URL(\"/\", window.location);\n          const port = 6006;\n          if (port) {\n            url.port = port;\n          }\n          frame.src = url;\n        })();\n      </script>\n    "
     },
     "metadata": {}
    }
   ],
   "source": [
    "%tensorboard --logdir logs/fit"
   ]
  },
  {
   "cell_type": "code",
   "execution_count": 11,
   "metadata": {},
   "outputs": [
    {
     "output_type": "stream",
     "name": "stdout",
     "text": [
      "INFO:tensorflow:Enabled dumping callback in thread MainThread (dump root: logs/fit/20210523-005847, tensor debug mode: FULL_HEALTH)\n"
     ]
    },
    {
     "output_type": "execute_result",
     "data": {
      "text/plain": [
       "<tensorflow.python.debug.lib.debug_events_writer.DebugEventsWriter at 0x7f7820304850>"
      ]
     },
     "metadata": {},
     "execution_count": 11
    }
   ],
   "source": [
    "tf.debugging.experimental.enable_dump_debug_info(log_dir, tensor_debug_mode=\"FULL_HEALTH\", circular_buffer_size=-1)"
   ]
  },
  {
   "cell_type": "code",
   "execution_count": null,
   "metadata": {},
   "outputs": [],
   "source": []
  }
 ],
 "metadata": {
  "colab": {
   "name": "HPA-testingNotebook.ipynb",
   "provenance": []
  },
  "kernelspec": {
   "name": "python3810jvsc74a57bd0650b1729ca1100e7d02e4d769428eb66ffe08b4be84b30f9d17918313ba33197",
   "display_name": "Python 3.8.10 64-bit ('code': conda)"
  },
  "language_info": {
   "codemirror_mode": {
    "name": "ipython",
    "version": 3
   },
   "file_extension": ".py",
   "mimetype": "text/x-python",
   "name": "python",
   "nbconvert_exporter": "python",
   "pygments_lexer": "ipython3",
   "version": "3.8.10"
  },
  "metadata": {
   "interpreter": {
    "hash": "650b1729ca1100e7d02e4d769428eb66ffe08b4be84b30f9d17918313ba33197"
   }
  }
 },
 "nbformat": 4,
 "nbformat_minor": 1
}