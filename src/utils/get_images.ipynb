{
 "metadata": {
  "language_info": {
   "codemirror_mode": {
    "name": "ipython",
    "version": 3
   },
   "file_extension": ".py",
   "mimetype": "text/x-python",
   "name": "python",
   "nbconvert_exporter": "python",
   "pygments_lexer": "ipython3",
   "version": "3.7.3"
  },
  "orig_nbformat": 2,
  "kernelspec": {
   "name": "python37364bitf59f2d1ee06d46b1a5488e0340f9d2cc",
   "display_name": "Python 3.7.3 64-bit"
  },
  "metadata": {
   "interpreter": {
    "hash": "31f2aee4e71d21fbe5cf8b01ff0e069b9275f58929596ceb00d14d90e3e16cd6"
   }
  }
 },
 "nbformat": 4,
 "nbformat_minor": 2,
 "cells": [
  {
   "cell_type": "code",
   "execution_count": 4,
   "metadata": {},
   "outputs": [],
   "source": [
    "#!export PYTHONPATH=\"${PYTHONPATH}:/home/adrian/HPA-SingleCellClassification/HPA-SingleCellClassification/\"\n",
    "from download_files import DownloadFile\n",
    "import pandas as pd\n",
    "import numpy as np"
   ]
  },
  {
   "cell_type": "code",
   "execution_count": 28,
   "metadata": {},
   "outputs": [
    {
     "output_type": "execute_result",
     "data": {
      "text/plain": [
       "[([1, 2, 3], [[4, 5, 6], [7, 8, 9]])]"
      ]
     },
     "metadata": {},
     "execution_count": 28
    }
   ],
   "source": [
    "a = list()\n",
    "a.append(([1, 2, 3], [[4, 5, 6], [7, 8, 9]]))\n",
    "a"
   ]
  },
  {
   "cell_type": "code",
   "execution_count": 14,
   "metadata": {},
   "outputs": [
    {
     "output_type": "stream",
     "name": "stdout",
     "text": [
      "The area of the rectangle is: 11315\nThe area of the rectangle is: 465\n"
     ]
    }
   ],
   "source": [
    "import math\n",
    "\n",
    "class Rectangle:\n",
    "\n",
    "    def __init__(self, length, width):\n",
    "        self.length = length\n",
    "        self.width = width\n",
    "\n",
    "    def do_area(self, e):\n",
    "        area = self.length * self.width * e\n",
    "        print(f\"The area of the rectangle is: {area}\")\n",
    "\n",
    "    def do_perimeter(self):\n",
    "        perimeter = (self.length + self.width) * 2\n",
    "        print(f\"The perimeter of the rectangle is: {perimeter}\")\n",
    "\n",
    "    def do_diagonal(self):\n",
    "        diagonal = math.sqrt(self.length ** 2 + self.width ** 2)\n",
    "        print(f\"The diagonal of the rectangle is: {diagonal}\")\n",
    "\n",
    "    def solve_for(self, name, r):\n",
    "        do = f\"do_{name}\"\n",
    "        func = getattr(self, do)\n",
    "        if hasattr(self, do) and callable(func):\n",
    "            func(r)\n",
    "\n",
    "rectangle = Rectangle(31, 5)\n",
    "\n",
    "rectangle.solve_for('area', 73)\n",
    "#rectangle.solve_for('perimeter')\n",
    "#rectangle.solve_for('diagonal')\n",
    "rectangle.do_area(3)"
   ]
  },
  {
   "cell_type": "code",
   "execution_count": null,
   "metadata": {},
   "outputs": [],
   "source": []
  }
 ]
}